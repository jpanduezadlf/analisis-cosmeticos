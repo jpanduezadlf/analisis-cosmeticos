{
 "cells": [
  {
   "cell_type": "markdown",
   "metadata": {},
   "source": [
    "First, we import the packages that will help us in analysing the document."
   ]
  },
  {
   "cell_type": "code",
   "execution_count": 2,
   "metadata": {},
   "outputs": [],
   "source": [
    "import pandas as pd\n",
    "import numpy as np\n",
    "import matplotlib as plt\n",
    "import seaborn as sb\n",
    "import calculos as calc"
   ]
  },
  {
   "cell_type": "code",
   "execution_count": 34,
   "metadata": {},
   "outputs": [],
   "source": [
    "df1 = pd.read_csv('beauty_cosmetics.csv', sep=',')"
   ]
  },
  {
   "cell_type": "code",
   "execution_count": 35,
   "metadata": {},
   "outputs": [
    {
     "data": {
      "text/html": [
       "<div>\n",
       "<style scoped>\n",
       "    .dataframe tbody tr th:only-of-type {\n",
       "        vertical-align: middle;\n",
       "    }\n",
       "\n",
       "    .dataframe tbody tr th {\n",
       "        vertical-align: top;\n",
       "    }\n",
       "\n",
       "    .dataframe thead th {\n",
       "        text-align: right;\n",
       "    }\n",
       "</style>\n",
       "<table border=\"1\" class=\"dataframe\">\n",
       "  <thead>\n",
       "    <tr style=\"text-align: right;\">\n",
       "      <th></th>\n",
       "      <th>Product_Name</th>\n",
       "      <th>Brand</th>\n",
       "      <th>Category</th>\n",
       "      <th>Usage_Frequency</th>\n",
       "      <th>Price_USD</th>\n",
       "      <th>Rating</th>\n",
       "      <th>Number_of_Reviews</th>\n",
       "      <th>Product_Size</th>\n",
       "      <th>Skin_Type</th>\n",
       "      <th>Gender_Target</th>\n",
       "      <th>Packaging_Type</th>\n",
       "      <th>Main_Ingredient</th>\n",
       "      <th>Cruelty_Free</th>\n",
       "      <th>Country_of_Origin</th>\n",
       "    </tr>\n",
       "  </thead>\n",
       "  <tbody>\n",
       "    <tr>\n",
       "      <th>0</th>\n",
       "      <td>Ultra Face Mask</td>\n",
       "      <td>Drunk Elephant</td>\n",
       "      <td>Blush</td>\n",
       "      <td>Weekly</td>\n",
       "      <td>67.85</td>\n",
       "      <td>1.4</td>\n",
       "      <td>686</td>\n",
       "      <td>30ml</td>\n",
       "      <td>Sensitive</td>\n",
       "      <td>Female</td>\n",
       "      <td>Tube</td>\n",
       "      <td>Retinol</td>\n",
       "      <td>False</td>\n",
       "      <td>Australia</td>\n",
       "    </tr>\n",
       "    <tr>\n",
       "      <th>1</th>\n",
       "      <td>Ultra Lipstick</td>\n",
       "      <td>Laura Mercier</td>\n",
       "      <td>Makeup Remover</td>\n",
       "      <td>Occasional</td>\n",
       "      <td>116.43</td>\n",
       "      <td>4.2</td>\n",
       "      <td>5483</td>\n",
       "      <td>250ml</td>\n",
       "      <td>Dry</td>\n",
       "      <td>Unisex</td>\n",
       "      <td>Bottle</td>\n",
       "      <td>Shea Butter</td>\n",
       "      <td>False</td>\n",
       "      <td>UK</td>\n",
       "    </tr>\n",
       "    <tr>\n",
       "      <th>2</th>\n",
       "      <td>Ultra Serum</td>\n",
       "      <td>Natasha Denona</td>\n",
       "      <td>Highlighter</td>\n",
       "      <td>Daily</td>\n",
       "      <td>90.84</td>\n",
       "      <td>1.6</td>\n",
       "      <td>5039</td>\n",
       "      <td>100ml</td>\n",
       "      <td>Sensitive</td>\n",
       "      <td>Male</td>\n",
       "      <td>Compact</td>\n",
       "      <td>Aloe Vera</td>\n",
       "      <td>True</td>\n",
       "      <td>Italy</td>\n",
       "    </tr>\n",
       "    <tr>\n",
       "      <th>3</th>\n",
       "      <td>Divine Serum</td>\n",
       "      <td>Ilia Beauty</td>\n",
       "      <td>Face Mask</td>\n",
       "      <td>Occasional</td>\n",
       "      <td>55.17</td>\n",
       "      <td>3.2</td>\n",
       "      <td>6202</td>\n",
       "      <td>250ml</td>\n",
       "      <td>Normal</td>\n",
       "      <td>Male</td>\n",
       "      <td>Tube</td>\n",
       "      <td>Glycerin</td>\n",
       "      <td>True</td>\n",
       "      <td>South Korea</td>\n",
       "    </tr>\n",
       "    <tr>\n",
       "      <th>4</th>\n",
       "      <td>Super Foundation</td>\n",
       "      <td>Charlotte Tilbury</td>\n",
       "      <td>Highlighter</td>\n",
       "      <td>Occasional</td>\n",
       "      <td>140.56</td>\n",
       "      <td>1.7</td>\n",
       "      <td>297</td>\n",
       "      <td>100ml</td>\n",
       "      <td>Oily</td>\n",
       "      <td>Female</td>\n",
       "      <td>Compact</td>\n",
       "      <td>Glycerin</td>\n",
       "      <td>False</td>\n",
       "      <td>Germany</td>\n",
       "    </tr>\n",
       "    <tr>\n",
       "      <th>5</th>\n",
       "      <td>Super Eye Shadow</td>\n",
       "      <td>Danessa Myricks</td>\n",
       "      <td>Foundation</td>\n",
       "      <td>Weekly</td>\n",
       "      <td>135.82</td>\n",
       "      <td>3.2</td>\n",
       "      <td>9405</td>\n",
       "      <td>150ml</td>\n",
       "      <td>Sensitive</td>\n",
       "      <td>Female</td>\n",
       "      <td>Compact</td>\n",
       "      <td>Glycerin</td>\n",
       "      <td>True</td>\n",
       "      <td>UK</td>\n",
       "    </tr>\n",
       "    <tr>\n",
       "      <th>6</th>\n",
       "      <td>Super Lip Gloss</td>\n",
       "      <td>Bourjois</td>\n",
       "      <td>Powder</td>\n",
       "      <td>Monthly</td>\n",
       "      <td>148.99</td>\n",
       "      <td>2.5</td>\n",
       "      <td>2423</td>\n",
       "      <td>250ml</td>\n",
       "      <td>Normal</td>\n",
       "      <td>Female</td>\n",
       "      <td>Jar</td>\n",
       "      <td>Hyaluronic Acid</td>\n",
       "      <td>True</td>\n",
       "      <td>Germany</td>\n",
       "    </tr>\n",
       "    <tr>\n",
       "      <th>7</th>\n",
       "      <td>Ultra Cleanser</td>\n",
       "      <td>Bourjois</td>\n",
       "      <td>Lip Gloss</td>\n",
       "      <td>Daily</td>\n",
       "      <td>21.43</td>\n",
       "      <td>4.3</td>\n",
       "      <td>8032</td>\n",
       "      <td>200ml</td>\n",
       "      <td>Sensitive</td>\n",
       "      <td>Male</td>\n",
       "      <td>Bottle</td>\n",
       "      <td>Vitamin C</td>\n",
       "      <td>True</td>\n",
       "      <td>Italy</td>\n",
       "    </tr>\n",
       "    <tr>\n",
       "      <th>8</th>\n",
       "      <td>Magic Highlighter</td>\n",
       "      <td>IT Cosmetics</td>\n",
       "      <td>CC Cream</td>\n",
       "      <td>Occasional</td>\n",
       "      <td>113.09</td>\n",
       "      <td>3.3</td>\n",
       "      <td>2468</td>\n",
       "      <td>200ml</td>\n",
       "      <td>Combination</td>\n",
       "      <td>Unisex</td>\n",
       "      <td>Compact</td>\n",
       "      <td>Vitamin C</td>\n",
       "      <td>True</td>\n",
       "      <td>Germany</td>\n",
       "    </tr>\n",
       "    <tr>\n",
       "      <th>9</th>\n",
       "      <td>Perfect Bronzer</td>\n",
       "      <td>Fenty Beauty</td>\n",
       "      <td>Face Mask</td>\n",
       "      <td>Weekly</td>\n",
       "      <td>133.57</td>\n",
       "      <td>4.4</td>\n",
       "      <td>4127</td>\n",
       "      <td>150ml</td>\n",
       "      <td>Dry</td>\n",
       "      <td>Female</td>\n",
       "      <td>Compact</td>\n",
       "      <td>Hyaluronic Acid</td>\n",
       "      <td>False</td>\n",
       "      <td>Japan</td>\n",
       "    </tr>\n",
       "  </tbody>\n",
       "</table>\n",
       "</div>"
      ],
      "text/plain": [
       "        Product_Name              Brand        Category Usage_Frequency  \\\n",
       "0    Ultra Face Mask     Drunk Elephant           Blush          Weekly   \n",
       "1     Ultra Lipstick      Laura Mercier  Makeup Remover      Occasional   \n",
       "2        Ultra Serum     Natasha Denona     Highlighter           Daily   \n",
       "3       Divine Serum        Ilia Beauty       Face Mask      Occasional   \n",
       "4   Super Foundation  Charlotte Tilbury     Highlighter      Occasional   \n",
       "5   Super Eye Shadow    Danessa Myricks      Foundation          Weekly   \n",
       "6    Super Lip Gloss           Bourjois          Powder         Monthly   \n",
       "7     Ultra Cleanser           Bourjois       Lip Gloss           Daily   \n",
       "8  Magic Highlighter       IT Cosmetics        CC Cream      Occasional   \n",
       "9    Perfect Bronzer       Fenty Beauty       Face Mask          Weekly   \n",
       "\n",
       "   Price_USD  Rating  Number_of_Reviews Product_Size    Skin_Type  \\\n",
       "0      67.85     1.4                686         30ml    Sensitive   \n",
       "1     116.43     4.2               5483        250ml          Dry   \n",
       "2      90.84     1.6               5039        100ml    Sensitive   \n",
       "3      55.17     3.2               6202        250ml       Normal   \n",
       "4     140.56     1.7                297        100ml         Oily   \n",
       "5     135.82     3.2               9405        150ml    Sensitive   \n",
       "6     148.99     2.5               2423        250ml       Normal   \n",
       "7      21.43     4.3               8032        200ml    Sensitive   \n",
       "8     113.09     3.3               2468        200ml  Combination   \n",
       "9     133.57     4.4               4127        150ml          Dry   \n",
       "\n",
       "  Gender_Target Packaging_Type  Main_Ingredient  Cruelty_Free  \\\n",
       "0        Female           Tube          Retinol         False   \n",
       "1        Unisex         Bottle      Shea Butter         False   \n",
       "2          Male        Compact        Aloe Vera          True   \n",
       "3          Male           Tube         Glycerin          True   \n",
       "4        Female        Compact         Glycerin         False   \n",
       "5        Female        Compact         Glycerin          True   \n",
       "6        Female            Jar  Hyaluronic Acid          True   \n",
       "7          Male         Bottle        Vitamin C          True   \n",
       "8        Unisex        Compact        Vitamin C          True   \n",
       "9        Female        Compact  Hyaluronic Acid         False   \n",
       "\n",
       "  Country_of_Origin  \n",
       "0         Australia  \n",
       "1                UK  \n",
       "2             Italy  \n",
       "3       South Korea  \n",
       "4           Germany  \n",
       "5                UK  \n",
       "6           Germany  \n",
       "7             Italy  \n",
       "8           Germany  \n",
       "9             Japan  "
      ]
     },
     "execution_count": 35,
     "metadata": {},
     "output_type": "execute_result"
    }
   ],
   "source": [
    "df1.head(10)"
   ]
  },
  {
   "cell_type": "code",
   "execution_count": 37,
   "metadata": {},
   "outputs": [
    {
     "name": "stdout",
     "output_type": "stream",
     "text": [
      "<class 'pandas.core.frame.DataFrame'>\n",
      "RangeIndex: 15000 entries, 0 to 14999\n",
      "Data columns (total 14 columns):\n",
      " #   Column             Non-Null Count  Dtype  \n",
      "---  ------             --------------  -----  \n",
      " 0   Product_Name       15000 non-null  object \n",
      " 1   Brand              15000 non-null  object \n",
      " 2   Category           15000 non-null  object \n",
      " 3   Usage_Frequency    15000 non-null  object \n",
      " 4   Price_USD          15000 non-null  float64\n",
      " 5   Rating             15000 non-null  float64\n",
      " 6   Number_of_Reviews  15000 non-null  int64  \n",
      " 7   Product_Size       15000 non-null  int64  \n",
      " 8   Skin_Type          15000 non-null  object \n",
      " 9   Gender_Target      15000 non-null  object \n",
      " 10  Packaging_Type     15000 non-null  object \n",
      " 11  Main_Ingredient    15000 non-null  object \n",
      " 12  Cruelty_Free       15000 non-null  bool   \n",
      " 13  Country_of_Origin  15000 non-null  object \n",
      "dtypes: bool(1), float64(2), int64(2), object(9)\n",
      "memory usage: 1.5+ MB\n"
     ]
    }
   ],
   "source": [
    "df1.Product_Size = df1.Product_Size.str.replace(\"ml\", \"\", regex=False)\n",
    "df1.Product_Size = df1.Product_Size.str.replace(\" \", \"\", regex=False).astype(int)\n",
    "df1.info()"
   ]
  },
  {
   "cell_type": "code",
   "execution_count": 6,
   "metadata": {},
   "outputs": [
    {
     "data": {
      "text/plain": [
       "Product_Name         0\n",
       "Brand                0\n",
       "Category             0\n",
       "Usage_Frequency      0\n",
       "Price_USD            0\n",
       "Rating               0\n",
       "Number_of_Reviews    0\n",
       "Product_Size         0\n",
       "Skin_Type            0\n",
       "Gender_Target        0\n",
       "Packaging_Type       0\n",
       "Main_Ingredient      0\n",
       "Cruelty_Free         0\n",
       "Country_of_Origin    0\n",
       "dtype: int64"
      ]
     },
     "execution_count": 6,
     "metadata": {},
     "output_type": "execute_result"
    }
   ],
   "source": [
    "df1.isnull().sum()"
   ]
  },
  {
   "cell_type": "code",
   "execution_count": 7,
   "metadata": {},
   "outputs": [
    {
     "name": "stdout",
     "output_type": "stream",
     "text": [
      "<class 'pandas.core.frame.DataFrame'>\n",
      "RangeIndex: 15000 entries, 0 to 14999\n",
      "Data columns (total 14 columns):\n",
      " #   Column             Non-Null Count  Dtype  \n",
      "---  ------             --------------  -----  \n",
      " 0   Product_Name       15000 non-null  object \n",
      " 1   Brand              15000 non-null  object \n",
      " 2   Category           15000 non-null  object \n",
      " 3   Usage_Frequency    15000 non-null  object \n",
      " 4   Price_USD          15000 non-null  float64\n",
      " 5   Rating             15000 non-null  float64\n",
      " 6   Number_of_Reviews  15000 non-null  int64  \n",
      " 7   Product_Size       15000 non-null  int64  \n",
      " 8   Skin_Type          15000 non-null  object \n",
      " 9   Gender_Target      15000 non-null  object \n",
      " 10  Packaging_Type     15000 non-null  object \n",
      " 11  Main_Ingredient    15000 non-null  object \n",
      " 12  Cruelty_Free       15000 non-null  bool   \n",
      " 13  Country_of_Origin  15000 non-null  object \n",
      "dtypes: bool(1), float64(2), int64(2), object(9)\n",
      "memory usage: 1.5+ MB\n"
     ]
    }
   ],
   "source": [
    "df1.info()"
   ]
  },
  {
   "cell_type": "code",
   "execution_count": 8,
   "metadata": {},
   "outputs": [
    {
     "data": {
      "text/html": [
       "<div>\n",
       "<style scoped>\n",
       "    .dataframe tbody tr th:only-of-type {\n",
       "        vertical-align: middle;\n",
       "    }\n",
       "\n",
       "    .dataframe tbody tr th {\n",
       "        vertical-align: top;\n",
       "    }\n",
       "\n",
       "    .dataframe thead th {\n",
       "        text-align: right;\n",
       "    }\n",
       "</style>\n",
       "<table border=\"1\" class=\"dataframe\">\n",
       "  <thead>\n",
       "    <tr style=\"text-align: right;\">\n",
       "      <th></th>\n",
       "      <th>Price_USD</th>\n",
       "      <th>Rating</th>\n",
       "      <th>Number_of_Reviews</th>\n",
       "      <th>Product_Size</th>\n",
       "    </tr>\n",
       "  </thead>\n",
       "  <tbody>\n",
       "    <tr>\n",
       "      <th>count</th>\n",
       "      <td>15000.000000</td>\n",
       "      <td>15000.000000</td>\n",
       "      <td>15000.000000</td>\n",
       "      <td>15000.000000</td>\n",
       "    </tr>\n",
       "    <tr>\n",
       "      <th>mean</th>\n",
       "      <td>80.134108</td>\n",
       "      <td>3.002327</td>\n",
       "      <td>5014.231333</td>\n",
       "      <td>129.233333</td>\n",
       "    </tr>\n",
       "    <tr>\n",
       "      <th>std</th>\n",
       "      <td>40.402983</td>\n",
       "      <td>1.168029</td>\n",
       "      <td>2855.665464</td>\n",
       "      <td>78.544405</td>\n",
       "    </tr>\n",
       "    <tr>\n",
       "      <th>min</th>\n",
       "      <td>10.000000</td>\n",
       "      <td>1.000000</td>\n",
       "      <td>52.000000</td>\n",
       "      <td>30.000000</td>\n",
       "    </tr>\n",
       "    <tr>\n",
       "      <th>25%</th>\n",
       "      <td>45.480000</td>\n",
       "      <td>2.000000</td>\n",
       "      <td>2562.000000</td>\n",
       "      <td>50.000000</td>\n",
       "    </tr>\n",
       "    <tr>\n",
       "      <th>50%</th>\n",
       "      <td>80.040000</td>\n",
       "      <td>3.000000</td>\n",
       "      <td>5002.000000</td>\n",
       "      <td>100.000000</td>\n",
       "    </tr>\n",
       "    <tr>\n",
       "      <th>75%</th>\n",
       "      <td>114.760000</td>\n",
       "      <td>4.000000</td>\n",
       "      <td>7497.000000</td>\n",
       "      <td>200.000000</td>\n",
       "    </tr>\n",
       "    <tr>\n",
       "      <th>max</th>\n",
       "      <td>149.990000</td>\n",
       "      <td>5.000000</td>\n",
       "      <td>10000.000000</td>\n",
       "      <td>250.000000</td>\n",
       "    </tr>\n",
       "  </tbody>\n",
       "</table>\n",
       "</div>"
      ],
      "text/plain": [
       "          Price_USD        Rating  Number_of_Reviews  Product_Size\n",
       "count  15000.000000  15000.000000       15000.000000  15000.000000\n",
       "mean      80.134108      3.002327        5014.231333    129.233333\n",
       "std       40.402983      1.168029        2855.665464     78.544405\n",
       "min       10.000000      1.000000          52.000000     30.000000\n",
       "25%       45.480000      2.000000        2562.000000     50.000000\n",
       "50%       80.040000      3.000000        5002.000000    100.000000\n",
       "75%      114.760000      4.000000        7497.000000    200.000000\n",
       "max      149.990000      5.000000       10000.000000    250.000000"
      ]
     },
     "execution_count": 8,
     "metadata": {},
     "output_type": "execute_result"
    }
   ],
   "source": [
    "df1.describe(exclude=['object', 'bool'])"
   ]
  },
  {
   "cell_type": "code",
   "execution_count": 38,
   "metadata": {},
   "outputs": [
    {
     "data": {
      "image/png": "[encoded data removed]",
      "text/plain": [
       "<Figure size 640x480 with 1 Axes>"
      ]
     },
     "metadata": {},
     "output_type": "display_data"
    }
   ],
   "source": [
    "plt.pyplot.hist(df1['Price_USD'], bins=len(df1.Price_USD.unique()))\n",
    "plt.pyplot.title('Distribución de Precio')\n",
    "plt.pyplot.xlabel('Precio (U$D)')\n",
    "plt.pyplot.ylabel('Frecuencia')\n",
    "plt.pyplot.grid(True)\n",
    "\n",
    "plt.pyplot.show()"
   ]
  },
  {
   "cell_type": "code",
   "execution_count": 10,
   "metadata": {},
   "outputs": [
    {
     "name": "stdout",
     "output_type": "stream",
     "text": [
      "[np.float64(-58.440000000000005), np.float64(218.68)]\n"
     ]
    },
    {
     "data": {
      "text/html": [
       "<div>\n",
       "<style scoped>\n",
       "    .dataframe tbody tr th:only-of-type {\n",
       "        vertical-align: middle;\n",
       "    }\n",
       "\n",
       "    .dataframe tbody tr th {\n",
       "        vertical-align: top;\n",
       "    }\n",
       "\n",
       "    .dataframe thead th {\n",
       "        text-align: right;\n",
       "    }\n",
       "</style>\n",
       "<table border=\"1\" class=\"dataframe\">\n",
       "  <thead>\n",
       "    <tr style=\"text-align: right;\">\n",
       "      <th></th>\n",
       "      <th>Product_Name</th>\n",
       "      <th>Brand</th>\n",
       "      <th>Category</th>\n",
       "      <th>Usage_Frequency</th>\n",
       "      <th>Price_USD</th>\n",
       "      <th>Rating</th>\n",
       "      <th>Number_of_Reviews</th>\n",
       "      <th>Product_Size</th>\n",
       "      <th>Skin_Type</th>\n",
       "      <th>Gender_Target</th>\n",
       "      <th>Packaging_Type</th>\n",
       "      <th>Main_Ingredient</th>\n",
       "      <th>Cruelty_Free</th>\n",
       "      <th>Country_of_Origin</th>\n",
       "    </tr>\n",
       "  </thead>\n",
       "  <tbody>\n",
       "  </tbody>\n",
       "</table>\n",
       "</div>"
      ],
      "text/plain": [
       "Empty DataFrame\n",
       "Columns: [Product_Name, Brand, Category, Usage_Frequency, Price_USD, Rating, Number_of_Reviews, Product_Size, Skin_Type, Gender_Target, Packaging_Type, Main_Ingredient, Cruelty_Free, Country_of_Origin]\n",
       "Index: []"
      ]
     },
     "execution_count": 10,
     "metadata": {},
     "output_type": "execute_result"
    }
   ],
   "source": [
    "priceRange = calc.rangeInterQrtl(df1['Price_USD'])\n",
    "print(priceRange)\n",
    "\n",
    "priceOutliers = calc.dropOutliers(priceRange, df1['Price_USD'], df1)\n",
    "priceOutliers"
   ]
  },
  {
   "cell_type": "code",
   "execution_count": 11,
   "metadata": {},
   "outputs": [
    {
     "data": {
      "image/png": "[encoded data removed]",
      "text/plain": [
       "<Figure size 640x480 with 1 Axes>"
      ]
     },
     "metadata": {},
     "output_type": "display_data"
    }
   ],
   "source": [
    "plt.pyplot.hist(df1['Rating'], bins=len(df1.Rating.unique()), edgecolor='black')\n",
    "plt.pyplot.title('Distribución de Rating')\n",
    "plt.pyplot.xlabel('Rating')\n",
    "plt.pyplot.ylabel('Frecuencia')\n",
    "plt.pyplot.grid(True)\n",
    "\n",
    "plt.pyplot.show()"
   ]
  },
  {
   "cell_type": "code",
   "execution_count": 12,
   "metadata": {},
   "outputs": [
    {
     "name": "stdout",
     "output_type": "stream",
     "text": [
      "[np.float64(-1.0), np.float64(7.0)]\n"
     ]
    },
    {
     "data": {
      "text/html": [
       "<div>\n",
       "<style scoped>\n",
       "    .dataframe tbody tr th:only-of-type {\n",
       "        vertical-align: middle;\n",
       "    }\n",
       "\n",
       "    .dataframe tbody tr th {\n",
       "        vertical-align: top;\n",
       "    }\n",
       "\n",
       "    .dataframe thead th {\n",
       "        text-align: right;\n",
       "    }\n",
       "</style>\n",
       "<table border=\"1\" class=\"dataframe\">\n",
       "  <thead>\n",
       "    <tr style=\"text-align: right;\">\n",
       "      <th></th>\n",
       "      <th>Product_Name</th>\n",
       "      <th>Brand</th>\n",
       "      <th>Category</th>\n",
       "      <th>Usage_Frequency</th>\n",
       "      <th>Price_USD</th>\n",
       "      <th>Rating</th>\n",
       "      <th>Number_of_Reviews</th>\n",
       "      <th>Product_Size</th>\n",
       "      <th>Skin_Type</th>\n",
       "      <th>Gender_Target</th>\n",
       "      <th>Packaging_Type</th>\n",
       "      <th>Main_Ingredient</th>\n",
       "      <th>Cruelty_Free</th>\n",
       "      <th>Country_of_Origin</th>\n",
       "    </tr>\n",
       "  </thead>\n",
       "  <tbody>\n",
       "  </tbody>\n",
       "</table>\n",
       "</div>"
      ],
      "text/plain": [
       "Empty DataFrame\n",
       "Columns: [Product_Name, Brand, Category, Usage_Frequency, Price_USD, Rating, Number_of_Reviews, Product_Size, Skin_Type, Gender_Target, Packaging_Type, Main_Ingredient, Cruelty_Free, Country_of_Origin]\n",
       "Index: []"
      ]
     },
     "execution_count": 12,
     "metadata": {},
     "output_type": "execute_result"
    }
   ],
   "source": [
    "ratingRange = calc.rangeInterQrtl(df1['Rating'])\n",
    "print(ratingRange)\n",
    "\n",
    "ratingOutliers = calc.dropOutliers(ratingRange, df1['Rating'], df1)\n",
    "ratingOutliers"
   ]
  },
  {
   "cell_type": "code",
   "execution_count": 13,
   "metadata": {},
   "outputs": [
    {
     "data": {
      "image/png": "[encoded data removed]",
      "text/plain": [
       "<Figure size 640x480 with 1 Axes>"
      ]
     },
     "metadata": {},
     "output_type": "display_data"
    }
   ],
   "source": [
    "plt.pyplot.hist(df1['Number_of_Reviews'], bins=len(df1.Number_of_Reviews.unique()))\n",
    "plt.pyplot.title('Distribución de Cantidad de Reviews')\n",
    "plt.pyplot.xlabel('Cantidad de Reviews')\n",
    "plt.pyplot.ylabel('Frecuencia')\n",
    "plt.pyplot.grid(True)\n",
    "\n",
    "plt.pyplot.show()"
   ]
  },
  {
   "cell_type": "code",
   "execution_count": 14,
   "metadata": {},
   "outputs": [
    {
     "name": "stdout",
     "output_type": "stream",
     "text": [
      "[np.float64(-4840.5), np.float64(14899.5)]\n"
     ]
    },
    {
     "data": {
      "text/html": [
       "<div>\n",
       "<style scoped>\n",
       "    .dataframe tbody tr th:only-of-type {\n",
       "        vertical-align: middle;\n",
       "    }\n",
       "\n",
       "    .dataframe tbody tr th {\n",
       "        vertical-align: top;\n",
       "    }\n",
       "\n",
       "    .dataframe thead th {\n",
       "        text-align: right;\n",
       "    }\n",
       "</style>\n",
       "<table border=\"1\" class=\"dataframe\">\n",
       "  <thead>\n",
       "    <tr style=\"text-align: right;\">\n",
       "      <th></th>\n",
       "      <th>Product_Name</th>\n",
       "      <th>Brand</th>\n",
       "      <th>Category</th>\n",
       "      <th>Usage_Frequency</th>\n",
       "      <th>Price_USD</th>\n",
       "      <th>Rating</th>\n",
       "      <th>Number_of_Reviews</th>\n",
       "      <th>Product_Size</th>\n",
       "      <th>Skin_Type</th>\n",
       "      <th>Gender_Target</th>\n",
       "      <th>Packaging_Type</th>\n",
       "      <th>Main_Ingredient</th>\n",
       "      <th>Cruelty_Free</th>\n",
       "      <th>Country_of_Origin</th>\n",
       "    </tr>\n",
       "  </thead>\n",
       "  <tbody>\n",
       "  </tbody>\n",
       "</table>\n",
       "</div>"
      ],
      "text/plain": [
       "Empty DataFrame\n",
       "Columns: [Product_Name, Brand, Category, Usage_Frequency, Price_USD, Rating, Number_of_Reviews, Product_Size, Skin_Type, Gender_Target, Packaging_Type, Main_Ingredient, Cruelty_Free, Country_of_Origin]\n",
       "Index: []"
      ]
     },
     "execution_count": 14,
     "metadata": {},
     "output_type": "execute_result"
    }
   ],
   "source": [
    "reviewsRange = calc.rangeInterQrtl(df1['Number_of_Reviews'])\n",
    "print(reviewsRange)\n",
    "\n",
    "reviewsOutliers = calc.dropOutliers(reviewsRange, df1['Number_of_Reviews'], df1)\n",
    "reviewsOutliers"
   ]
  },
  {
   "cell_type": "code",
   "execution_count": 41,
   "metadata": {},
   "outputs": [
    {
     "data": {
      "text/plain": [
       "[(30, 2540), (50, 2501), (100, 2551), (150, 2487), (200, 2423), (250, 2498)]"
      ]
     },
     "execution_count": 41,
     "metadata": {},
     "output_type": "execute_result"
    }
   ],
   "source": [
    "sorted(calc.freqColumns(df1['Product_Size']).items())"
   ]
  },
  {
   "cell_type": "code",
   "execution_count": 16,
   "metadata": {},
   "outputs": [
    {
     "name": "stdout",
     "output_type": "stream",
     "text": [
      "[np.float64(-175.0), np.float64(425.0)]\n"
     ]
    },
    {
     "data": {
      "text/html": [
       "<div>\n",
       "<style scoped>\n",
       "    .dataframe tbody tr th:only-of-type {\n",
       "        vertical-align: middle;\n",
       "    }\n",
       "\n",
       "    .dataframe tbody tr th {\n",
       "        vertical-align: top;\n",
       "    }\n",
       "\n",
       "    .dataframe thead th {\n",
       "        text-align: right;\n",
       "    }\n",
       "</style>\n",
       "<table border=\"1\" class=\"dataframe\">\n",
       "  <thead>\n",
       "    <tr style=\"text-align: right;\">\n",
       "      <th></th>\n",
       "      <th>Product_Name</th>\n",
       "      <th>Brand</th>\n",
       "      <th>Category</th>\n",
       "      <th>Usage_Frequency</th>\n",
       "      <th>Price_USD</th>\n",
       "      <th>Rating</th>\n",
       "      <th>Number_of_Reviews</th>\n",
       "      <th>Product_Size</th>\n",
       "      <th>Skin_Type</th>\n",
       "      <th>Gender_Target</th>\n",
       "      <th>Packaging_Type</th>\n",
       "      <th>Main_Ingredient</th>\n",
       "      <th>Cruelty_Free</th>\n",
       "      <th>Country_of_Origin</th>\n",
       "    </tr>\n",
       "  </thead>\n",
       "  <tbody>\n",
       "  </tbody>\n",
       "</table>\n",
       "</div>"
      ],
      "text/plain": [
       "Empty DataFrame\n",
       "Columns: [Product_Name, Brand, Category, Usage_Frequency, Price_USD, Rating, Number_of_Reviews, Product_Size, Skin_Type, Gender_Target, Packaging_Type, Main_Ingredient, Cruelty_Free, Country_of_Origin]\n",
       "Index: []"
      ]
     },
     "execution_count": 16,
     "metadata": {},
     "output_type": "execute_result"
    }
   ],
   "source": [
    "sizeRange = calc.rangeInterQrtl(df1['Product_Size'])\n",
    "print(sizeRange)\n",
    "\n",
    "sizeOutliers = calc.dropOutliers(reviewsRange, df1['Product_Size'], df1)\n",
    "sizeOutliers"
   ]
  },
  {
   "cell_type": "code",
   "execution_count": 17,
   "metadata": {},
   "outputs": [
    {
     "data": {
      "text/html": [
       "<div>\n",
       "<style scoped>\n",
       "    .dataframe tbody tr th:only-of-type {\n",
       "        vertical-align: middle;\n",
       "    }\n",
       "\n",
       "    .dataframe tbody tr th {\n",
       "        vertical-align: top;\n",
       "    }\n",
       "\n",
       "    .dataframe thead th {\n",
       "        text-align: right;\n",
       "    }\n",
       "</style>\n",
       "<table border=\"1\" class=\"dataframe\">\n",
       "  <thead>\n",
       "    <tr style=\"text-align: right;\">\n",
       "      <th></th>\n",
       "      <th>Product_Name</th>\n",
       "      <th>Brand</th>\n",
       "      <th>Category</th>\n",
       "      <th>Usage_Frequency</th>\n",
       "      <th>Skin_Type</th>\n",
       "      <th>Gender_Target</th>\n",
       "      <th>Packaging_Type</th>\n",
       "      <th>Main_Ingredient</th>\n",
       "      <th>Country_of_Origin</th>\n",
       "    </tr>\n",
       "  </thead>\n",
       "  <tbody>\n",
       "    <tr>\n",
       "      <th>count</th>\n",
       "      <td>15000</td>\n",
       "      <td>15000</td>\n",
       "      <td>15000</td>\n",
       "      <td>15000</td>\n",
       "      <td>15000</td>\n",
       "      <td>15000</td>\n",
       "      <td>15000</td>\n",
       "      <td>15000</td>\n",
       "      <td>15000</td>\n",
       "    </tr>\n",
       "    <tr>\n",
       "      <th>unique</th>\n",
       "      <td>120</td>\n",
       "      <td>40</td>\n",
       "      <td>24</td>\n",
       "      <td>4</td>\n",
       "      <td>5</td>\n",
       "      <td>3</td>\n",
       "      <td>6</td>\n",
       "      <td>7</td>\n",
       "      <td>8</td>\n",
       "    </tr>\n",
       "    <tr>\n",
       "      <th>top</th>\n",
       "      <td>Super Setting Spray</td>\n",
       "      <td>Milk Makeup</td>\n",
       "      <td>Serum</td>\n",
       "      <td>Occasional</td>\n",
       "      <td>Combination</td>\n",
       "      <td>Male</td>\n",
       "      <td>Jar</td>\n",
       "      <td>Retinol</td>\n",
       "      <td>Italy</td>\n",
       "    </tr>\n",
       "    <tr>\n",
       "      <th>freq</th>\n",
       "      <td>154</td>\n",
       "      <td>426</td>\n",
       "      <td>710</td>\n",
       "      <td>3794</td>\n",
       "      <td>3060</td>\n",
       "      <td>5017</td>\n",
       "      <td>2567</td>\n",
       "      <td>2180</td>\n",
       "      <td>1942</td>\n",
       "    </tr>\n",
       "  </tbody>\n",
       "</table>\n",
       "</div>"
      ],
      "text/plain": [
       "               Product_Name        Brand Category Usage_Frequency  \\\n",
       "count                 15000        15000    15000           15000   \n",
       "unique                  120           40       24               4   \n",
       "top     Super Setting Spray  Milk Makeup    Serum      Occasional   \n",
       "freq                    154          426      710            3794   \n",
       "\n",
       "          Skin_Type Gender_Target Packaging_Type Main_Ingredient  \\\n",
       "count         15000         15000          15000           15000   \n",
       "unique            5             3              6               7   \n",
       "top     Combination          Male            Jar         Retinol   \n",
       "freq           3060          5017           2567            2180   \n",
       "\n",
       "       Country_of_Origin  \n",
       "count              15000  \n",
       "unique                 8  \n",
       "top                Italy  \n",
       "freq                1942  "
      ]
     },
     "execution_count": 17,
     "metadata": {},
     "output_type": "execute_result"
    }
   ],
   "source": [
    "df1.describe(include=['object'])"
   ]
  },
  {
   "cell_type": "code",
   "execution_count": 46,
   "metadata": {},
   "outputs": [
    {
     "data": {
      "text/plain": [
       "[('Milk Makeup', 426),\n",
       " ('Make Up For Ever', 414),\n",
       " ('Kiehl’s', 411),\n",
       " ('NARS', 400),\n",
       " ('Farsali', 399),\n",
       " ('E.l.f.', 399),\n",
       " ('Yves Saint Laurent', 394),\n",
       " ('Sisley', 392),\n",
       " ('Bite Beauty', 392),\n",
       " ('Morphe', 392),\n",
       " ('KVD Beauty', 391),\n",
       " ('Glossier', 388),\n",
       " ('Becca', 388),\n",
       " ('Huda Beauty', 384),\n",
       " ('RMS Beauty', 382),\n",
       " ('Bobby Brown', 380),\n",
       " ('Ilia Beauty', 379),\n",
       " ('Clinique', 377),\n",
       " ('Rare Beauty', 375),\n",
       " ('Tatcha', 374),\n",
       " ('Too Faced', 371),\n",
       " ('Kylie Cosmetics', 370),\n",
       " ('Shiseido', 370),\n",
       " ('Anastasia Beverly Hills', 369),\n",
       " ('Juvia’s Place', 368),\n",
       " ('Drunk Elephant', 368),\n",
       " ('Fenty Beauty', 366),\n",
       " ('Hourglass', 366),\n",
       " ('Natasha Denona', 366),\n",
       " ('Charlotte Tilbury', 364),\n",
       " ('Tarte', 361),\n",
       " ('Danessa Myricks', 358),\n",
       " ('Bourjois', 357),\n",
       " ('Urban Decay', 356),\n",
       " ('Laura Mercier', 355),\n",
       " ('Perricone MD', 349),\n",
       " ('IT Cosmetics', 346),\n",
       " ('Patrick Ta', 345),\n",
       " ('Pat McGrath Labs', 330),\n",
       " ('ColourPop', 328)]"
      ]
     },
     "execution_count": 46,
     "metadata": {},
     "output_type": "execute_result"
    }
   ],
   "source": [
    "sorted(calc.freqColumns(df1.Brand).items(), key=lambda x:x[1],reverse=True)"
   ]
  },
  {
   "cell_type": "code",
   "execution_count": 47,
   "metadata": {},
   "outputs": [
    {
     "data": {
      "text/plain": [
       "[('Serum', 710),\n",
       " ('Mascara', 674),\n",
       " ('Face Oil', 671),\n",
       " ('Highlighter', 653),\n",
       " ('Face Mask', 653),\n",
       " ('Moisturizer', 638),\n",
       " ('Makeup Remover', 636),\n",
       " ('Lipstick', 633),\n",
       " ('Concealer', 633),\n",
       " ('Bronzer', 631),\n",
       " ('Eyeliner', 629),\n",
       " ('Blush', 628),\n",
       " ('Setting Spray', 622),\n",
       " ('Cleanser', 614),\n",
       " ('Foundation', 613),\n",
       " ('BB Cream', 613),\n",
       " ('Lip Liner', 610),\n",
       " ('Primer', 606),\n",
       " ('Contour', 604),\n",
       " ('Powder', 599),\n",
       " ('CC Cream', 594),\n",
       " ('Exfoliator', 583),\n",
       " ('Eye Shadow', 582),\n",
       " ('Lip Gloss', 571)]"
      ]
     },
     "execution_count": 47,
     "metadata": {},
     "output_type": "execute_result"
    }
   ],
   "source": [
    "sorted(calc.freqColumns(df1['Category']).items(), key=lambda x:x[1], reverse=True)"
   ]
  },
  {
   "cell_type": "code",
   "execution_count": 49,
   "metadata": {},
   "outputs": [
    {
     "data": {
      "text/plain": [
       "[('Occasional', 3794), ('Monthly', 3781), ('Weekly', 3757), ('Daily', 3668)]"
      ]
     },
     "execution_count": 49,
     "metadata": {},
     "output_type": "execute_result"
    }
   ],
   "source": [
    "sorted(calc.freqColumns(df1['Usage_Frequency']).items(), key=lambda x:x[1], reverse=True)"
   ]
  },
  {
   "cell_type": "code",
   "execution_count": 50,
   "metadata": {},
   "outputs": [
    {
     "data": {
      "text/plain": [
       "[('Combination', 3060),\n",
       " ('Oily', 3009),\n",
       " ('Normal', 2991),\n",
       " ('Sensitive', 2975),\n",
       " ('Dry', 2965)]"
      ]
     },
     "execution_count": 50,
     "metadata": {},
     "output_type": "execute_result"
    }
   ],
   "source": [
    "sorted(calc.freqColumns(df1['Skin_Type']).items(), key=lambda x:x[1], reverse=True)"
   ]
  },
  {
   "cell_type": "code",
   "execution_count": 51,
   "metadata": {},
   "outputs": [
    {
     "data": {
      "text/plain": [
       "[('Male', 5017), ('Female', 5002), ('Unisex', 4981)]"
      ]
     },
     "execution_count": 51,
     "metadata": {},
     "output_type": "execute_result"
    }
   ],
   "source": [
    "sorted(calc.freqColumns(df1['Gender_Target']).items(), key=lambda x:x[1], reverse=True)"
   ]
  },
  {
   "cell_type": "code",
   "execution_count": 52,
   "metadata": {},
   "outputs": [
    {
     "data": {
      "text/plain": [
       "[('Jar', 2567),\n",
       " ('Bottle', 2532),\n",
       " ('Stick', 2529),\n",
       " ('Spray', 2528),\n",
       " ('Compact', 2454),\n",
       " ('Tube', 2390)]"
      ]
     },
     "execution_count": 52,
     "metadata": {},
     "output_type": "execute_result"
    }
   ],
   "source": [
    "sorted(calc.freqColumns(df1['Packaging_Type']).items(), key=lambda x:x[1], reverse=True)"
   ]
  },
  {
   "cell_type": "code",
   "execution_count": 53,
   "metadata": {},
   "outputs": [
    {
     "data": {
      "text/plain": [
       "[('Retinol', 2180),\n",
       " ('Glycerin', 2174),\n",
       " ('Vitamin C', 2168),\n",
       " ('Salicylic Acid', 2149),\n",
       " ('Shea Butter', 2148),\n",
       " ('Aloe Vera', 2091),\n",
       " ('Hyaluronic Acid', 2090)]"
      ]
     },
     "execution_count": 53,
     "metadata": {},
     "output_type": "execute_result"
    }
   ],
   "source": [
    "sorted(calc.freqColumns(df1['Main_Ingredient']).items(), key=lambda x:x[1], reverse=True)"
   ]
  },
  {
   "cell_type": "code",
   "execution_count": 54,
   "metadata": {},
   "outputs": [
    {
     "data": {
      "text/plain": [
       "[('Italy', 1942),\n",
       " ('USA', 1931),\n",
       " ('Australia', 1873),\n",
       " ('France', 1863),\n",
       " ('Japan', 1861),\n",
       " ('South Korea', 1851),\n",
       " ('UK', 1846),\n",
       " ('Germany', 1833)]"
      ]
     },
     "execution_count": 54,
     "metadata": {},
     "output_type": "execute_result"
    }
   ],
   "source": [
    "sorted(calc.freqColumns(df1['Country_of_Origin']).items(), key=lambda x:x[1], reverse=True)"
   ]
  },
  {
   "cell_type": "code",
   "execution_count": null,
   "metadata": {},
   "outputs": [
    {
     "data": {
      "text/html": [
       "<div>\n",
       "<style scoped>\n",
       "    .dataframe tbody tr th:only-of-type {\n",
       "        vertical-align: middle;\n",
       "    }\n",
       "\n",
       "    .dataframe tbody tr th {\n",
       "        vertical-align: top;\n",
       "    }\n",
       "\n",
       "    .dataframe thead th {\n",
       "        text-align: right;\n",
       "    }\n",
       "</style>\n",
       "<table border=\"1\" class=\"dataframe\">\n",
       "  <thead>\n",
       "    <tr style=\"text-align: right;\">\n",
       "      <th></th>\n",
       "      <th>Cruelty_Free</th>\n",
       "    </tr>\n",
       "  </thead>\n",
       "  <tbody>\n",
       "    <tr>\n",
       "      <th>count</th>\n",
       "      <td>15000</td>\n",
       "    </tr>\n",
       "    <tr>\n",
       "      <th>unique</th>\n",
       "      <td>2</td>\n",
       "    </tr>\n",
       "    <tr>\n",
       "      <th>top</th>\n",
       "      <td>False</td>\n",
       "    </tr>\n",
       "    <tr>\n",
       "      <th>freq</th>\n",
       "      <td>7592</td>\n",
       "    </tr>\n",
       "  </tbody>\n",
       "</table>\n",
       "</div>"
      ],
      "text/plain": [
       "       Cruelty_Free\n",
       "count         15000\n",
       "unique            2\n",
       "top           False\n",
       "freq           7592"
      ]
     },
     "metadata": {},
     "output_type": "display_data"
    }
   ],
   "source": [
    "df1.describe(include=['bool'])"
   ]
  },
  {
   "cell_type": "code",
   "execution_count": 27,
   "metadata": {},
   "outputs": [
    {
     "data": {
      "text/plain": [
       "{False: 7592, True: 7408}"
      ]
     },
     "execution_count": 27,
     "metadata": {},
     "output_type": "execute_result"
    }
   ],
   "source": [
    "calc.freqColumns(df1['Cruelty_Free'])"
   ]
  }
 ],
 "metadata": {
  "kernelspec": {
   "display_name": "Python 3",
   "language": "python",
   "name": "python3"
  },
  "language_info": {
   "codemirror_mode": {
    "name": "ipython",
    "version": 3
   },
   "file_extension": ".py",
   "mimetype": "text/x-python",
   "name": "python",
   "nbconvert_exporter": "python",
   "pygments_lexer": "ipython3",
   "version": "3.12.5"
  }
 },
 "nbformat": 4,
 "nbformat_minor": 2
}
